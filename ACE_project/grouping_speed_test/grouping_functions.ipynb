{
 "cells": [
  {
   "cell_type": "code",
   "execution_count": null,
   "metadata": {
    "vscode": {
     "languageId": "plaintext"
    }
   },
   "outputs": [],
   "source": [
    "import pandas as pd\n",
    "import numpy as np\n",
    "import time\n",
    "import os"
   ]
  },
  {
   "cell_type": "code",
   "execution_count": null,
   "metadata": {
    "vscode": {
     "languageId": "plaintext"
    }
   },
   "outputs": [],
   "source": [
    "# 현재 파일의 디렉토리 경로를 가져옵니다\n",
    "current_dir = os.path.dirname(os.path.abspath(__file__))\n",
    "\n",
    "# 데이터 파일 경로 설정\n",
    "movie_df = pd.read_csv(os.path.join(current_dir, 'data', 'movies.csv'))\n",
    "rating_df = pd.read_csv(os.path.join(current_dir, 'data', 'ratings.csv'))\n",
    "movie_rating_df = pd.merge(movie_df, rating_df, on='movieId', how='inner')\n"
   ]
  },
  {
   "cell_type": "code",
   "execution_count": null,
   "metadata": {
    "vscode": {
     "languageId": "plaintext"
    }
   },
   "outputs": [],
   "source": [
    "movie_rating_df.drop(columns=['timestamp'], inplace=True)\n",
    "\n",
    "genre_grouped_df = movie_rating_df.groupby('genres').agg({'rating': 'mean'}).reset_index()\n",
    "#print(genre_grouped_df.head(5))\n",
    "\n",
    "movie_rating_df['genres'] = movie_rating_df['genres'].str.split('|')\n",
    "print(movie_rating_df['genres'].groupyby(movie_rating_df['title']).head(5))"
   ]
  },
  {
   "cell_type": "code",
   "execution_count": null,
   "metadata": {
    "vscode": {
     "languageId": "plaintext"
    }
   },
   "outputs": [],
   "source": []
  }
 ],
 "metadata": {
  "language_info": {
   "name": "python"
  }
 },
 "nbformat": 4,
 "nbformat_minor": 2
}
